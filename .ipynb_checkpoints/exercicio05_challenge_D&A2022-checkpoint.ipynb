{
 "cells": [
  {
   "cell_type": "markdown",
   "metadata": {},
   "source": [
    "## Recomendações de produtos | Exercício 5 - Sistema em Produção"
   ]
  },
  {
   "cell_type": "markdown",
   "metadata": {},
   "source": [
    "**5. Discovery: Exploración VS Explotación**"
   ]
  },
  {
   "cell_type": "markdown",
   "metadata": {},
   "source": [
    "### Técnica proposta: Filtragem colaborativa"
   ]
  },
  {
   "cell_type": "markdown",
   "metadata": {},
   "source": [
    "#### Fundamentos e Conceito"
   ]
  },
  {
   "cell_type": "markdown",
   "metadata": {},
   "source": [
    "A Filtragem Colaborativa é uma técnica de Aprendizado de Máquina usada para identificar relacionamentos entre partes de dados. Essa técnica é frequentemente usada em sistemas de recomendação para identificar semelhanças entre os dados do usuário e os itens."
   ]
  },
  {
   "cell_type": "markdown",
   "metadata": {},
   "source": [
    "Para resolver algumas das limitações da filtragem baseada em conteúdo, a filtragem colaborativa usa semelhanças entre usuários e itens simultaneamente para fornecer recomendações. Isso permite recomendações fortuitas; ou seja, os modelos de filtragem colaborativa podem recomendar um item ao usuário A com base nos interesses de um usuário semelhante B."
   ]
  },
  {
   "cell_type": "markdown",
   "metadata": {},
   "source": [
    "Nesse tipo de sistema de recomendação, é realizado a classificação dos usuários em clusters de tipos semelhantes e é recomendado para cada usuário de acordo com a preferência de seu cluster."
   ]
  },
  {
   "cell_type": "markdown",
   "metadata": {},
   "source": [
    "#### Método"
   ]
  },
  {
   "cell_type": "markdown",
   "metadata": {},
   "source": [
    "O modelo acompanha quais produtos os usuários gostam e suas características para ver o que os usuários, que gostam de produtos com características semelhantes, gostaram. O modelo então faz suas recomendações de acordo.\n",
    "\n",
    "Os recursos do produto devem receber valores numéricos sempre que possível, pois isso torna as decisões do modelo mais precisas. Depois que os recursos são identificados e os valores atribuídos, a coleta de dados precisa começar."
   ]
  },
  {
   "cell_type": "markdown",
   "metadata": {},
   "source": [
    "![title](img/filtragem_colab.JPG)"
   ]
  },
  {
   "cell_type": "markdown",
   "metadata": {},
   "source": [
    "Suponhamos que os Produtos 1 e 2 sejam Tênis Esportivos e os Produtos 3 e 4 sejam Eletrônicos. Nesse caso, o modelo pode estabelecer que o usuário 1 gosta de Tênis Esportivos e Eletrônicos, o usuário 2 gosta de Tênis Esportivos e o usuário 3 e o usuário 4 gostam de Eletrônicos.\n",
    "\n",
    "Com esses dados, o modelo pode recomendar os Produtos 1 e 4 ao Usuário 1 e o Produto 3 ao Usuário 4 ."
   ]
  },
  {
   "cell_type": "markdown",
   "metadata": {},
   "source": [
    "#### Proposta de Técnicas de Filtragem colaborativa "
   ]
  },
  {
   "cell_type": "markdown",
   "metadata": {},
   "source": [
    "**Abordagem baseada em memória:**\n",
    "\n",
    "Filtragem item-item pegará um item, localizará usuários que gostaram desse item e encontrar outros itens que esses usuários ou usuários semelhantes também gostaram. Ele recebe itens e gera outros itens como recomendações.\n",
    "\n",
    "*Calculados usando a similaridade de cosseno ou distância euclidiana*"
   ]
  },
  {
   "cell_type": "markdown",
   "metadata": {},
   "source": [
    "![title](img/matriz_cosseno.JPG)"
   ]
  },
  {
   "cell_type": "markdown",
   "metadata": {},
   "source": [
    "### Métricas do modelo"
   ]
  },
  {
   "cell_type": "markdown",
   "metadata": {},
   "source": [
    "**Produt_Id:** Produto visualizado pelo usuário<br>\n",
    "**Title:** Título do produto visualizado<br>\n",
    "**User:** Usuário que visualizou o produto"
   ]
  },
  {
   "cell_type": "markdown",
   "metadata": {},
   "source": [
    "### Técnica de modelo proposta"
   ]
  },
  {
   "cell_type": "markdown",
   "metadata": {},
   "source": [
    "O KNN (K nearest neighboors) é um método de aprendizado não paramétrico. Ele usa um banco de dados no qual os pontos de dados são separados em vários clusters para inferir novas amostras.\n",
    "\n",
    "O KNN não faz suposições sobre a distribuição de dados subjacente, mas depende da semelhança entre os itens. Quando o KNN faz inferência sobre um produto, o KNN calcula a “distância” entre o produto de destino e todos os outros produtos em seu banco de dados, depois classifica suas distâncias e retorna os K produtos vizinhos mais próximos como as recomendações mais semelhantes."
   ]
  },
  {
   "cell_type": "markdown",
   "metadata": {},
   "source": [
    "![title](img/knn.JPG)"
   ]
  },
  {
   "cell_type": "markdown",
   "metadata": {},
   "source": [
    "**¿Que tipo de enfoque utilizar para definir en que % de posiciones explorar y en\n",
    "que % explotar?**"
   ]
  },
  {
   "cell_type": "markdown",
   "metadata": {},
   "source": [
    "O KNN captura a ideia de similaridade com a proximidade entre os produtos, para isso o algoritmo irá separar as distribuições dos produtos ordenados em relação ao seu indíce de distância.\n",
    "\n",
    "**Algoritmo:**\n",
    "\n",
    "1. Cálculo da distância entre os produtos\n",
    "\n",
    "2. Ordenação do índice de produto para as distâncias\n",
    "\n",
    "3. Classificação da coleção ordenada de distâncias e índices do menor para o maior\n",
    "\n",
    "4. Escolha das primeiras k* entradas da coleção ordenada\n",
    "\n",
    "k* - Representa o número de itens próximos em um raio dos produtos\n",
    "\n",
    "*Portanto para definir as posições de produtos para Explorar e Explotar será realiza pelo número de k, quanto maior o número do raio de proximidade mais longe será a similaridade dos produtos que seriam: Explorar. E quanto mais próximo o k seria: Explotar.*"
   ]
  }
 ],
 "metadata": {
  "kernelspec": {
   "display_name": "Python 3",
   "language": "python",
   "name": "python3"
  },
  "language_info": {
   "codemirror_mode": {
    "name": "ipython",
    "version": 3
   },
   "file_extension": ".py",
   "mimetype": "text/x-python",
   "name": "python",
   "nbconvert_exporter": "python",
   "pygments_lexer": "ipython3",
   "version": "3.7.4"
  }
 },
 "nbformat": 4,
 "nbformat_minor": 2
}
